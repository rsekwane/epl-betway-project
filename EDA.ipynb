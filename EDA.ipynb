{
 "cells": [
  {
   "cell_type": "code",
   "execution_count": 2,
   "id": "e63ef4d1",
   "metadata": {},
   "outputs": [],
   "source": [
    "import pandas as pd\n",
    "from pathlib import Path  "
   ]
  },
  {
   "cell_type": "code",
   "execution_count": 55,
   "id": "f361b06c",
   "metadata": {},
   "outputs": [],
   "source": [
    "import argparse\n",
    "import json\n",
    "import os\n",
    "import pandas as pd\n",
    "import numpy as np\n",
    "import yaml\n",
    "from sklearn.metrics import log_loss, accuracy_score\n",
    "\n",
    "from src.model import make_dataset, build_pipeline, evaluate_cv, predict_with_ev, save_pipeline"
   ]
  },
  {
   "cell_type": "code",
   "execution_count": 67,
   "id": "e6333a34",
   "metadata": {},
   "outputs": [],
   "source": [
    "df = pd.read_csv(\"data/matches.csv\", sep=';', on_bad_lines='skip')"
   ]
  },
  {
   "cell_type": "code",
   "execution_count": 68,
   "id": "611667fc",
   "metadata": {},
   "outputs": [
    {
     "data": {
      "text/html": [
       "<div>\n",
       "<style scoped>\n",
       "    .dataframe tbody tr th:only-of-type {\n",
       "        vertical-align: middle;\n",
       "    }\n",
       "\n",
       "    .dataframe tbody tr th {\n",
       "        vertical-align: top;\n",
       "    }\n",
       "\n",
       "    .dataframe thead th {\n",
       "        text-align: right;\n",
       "    }\n",
       "</style>\n",
       "<table border=\"1\" class=\"dataframe\">\n",
       "  <thead>\n",
       "    <tr style=\"text-align: right;\">\n",
       "      <th></th>\n",
       "      <th>Game_Date</th>\n",
       "      <th>Time</th>\n",
       "      <th>HomeTeam</th>\n",
       "      <th>AwayTeam</th>\n",
       "      <th>FTHG</th>\n",
       "      <th>FTAG</th>\n",
       "      <th>FTR</th>\n",
       "      <th>HTHG</th>\n",
       "      <th>HTAG</th>\n",
       "      <th>HTR</th>\n",
       "      <th>...</th>\n",
       "      <th>B365CAHH</th>\n",
       "      <th>B365CAHA</th>\n",
       "      <th>PCAHH</th>\n",
       "      <th>PCAHA</th>\n",
       "      <th>MaxCAHH</th>\n",
       "      <th>MaxCAHA</th>\n",
       "      <th>AvgCAHH</th>\n",
       "      <th>AvgCAHA</th>\n",
       "      <th>BFECAHH</th>\n",
       "      <th>BFECAHA</th>\n",
       "    </tr>\n",
       "  </thead>\n",
       "  <tbody>\n",
       "    <tr>\n",
       "      <th>0</th>\n",
       "      <td>16/08/2024</td>\n",
       "      <td>20:00</td>\n",
       "      <td>Man United</td>\n",
       "      <td>Fulham</td>\n",
       "      <td>1</td>\n",
       "      <td>0</td>\n",
       "      <td>H</td>\n",
       "      <td>0</td>\n",
       "      <td>0</td>\n",
       "      <td>D</td>\n",
       "      <td>...</td>\n",
       "      <td>1.86</td>\n",
       "      <td>2.07</td>\n",
       "      <td>1.83</td>\n",
       "      <td>2.11</td>\n",
       "      <td>1.88</td>\n",
       "      <td>2.11</td>\n",
       "      <td>1.82</td>\n",
       "      <td>2.05</td>\n",
       "      <td>1.90</td>\n",
       "      <td>2.08</td>\n",
       "    </tr>\n",
       "    <tr>\n",
       "      <th>1</th>\n",
       "      <td>17/08/2024</td>\n",
       "      <td>12:30</td>\n",
       "      <td>Ipswich</td>\n",
       "      <td>Liverpool</td>\n",
       "      <td>0</td>\n",
       "      <td>2</td>\n",
       "      <td>A</td>\n",
       "      <td>0</td>\n",
       "      <td>0</td>\n",
       "      <td>D</td>\n",
       "      <td>...</td>\n",
       "      <td>2.05</td>\n",
       "      <td>1.88</td>\n",
       "      <td>2.04</td>\n",
       "      <td>1.90</td>\n",
       "      <td>2.20</td>\n",
       "      <td>2.00</td>\n",
       "      <td>1.99</td>\n",
       "      <td>1.88</td>\n",
       "      <td>2.04</td>\n",
       "      <td>1.93</td>\n",
       "    </tr>\n",
       "    <tr>\n",
       "      <th>2</th>\n",
       "      <td>17/08/2024</td>\n",
       "      <td>15:00</td>\n",
       "      <td>Arsenal</td>\n",
       "      <td>Wolves</td>\n",
       "      <td>2</td>\n",
       "      <td>0</td>\n",
       "      <td>H</td>\n",
       "      <td>1</td>\n",
       "      <td>0</td>\n",
       "      <td>H</td>\n",
       "      <td>...</td>\n",
       "      <td>2.02</td>\n",
       "      <td>1.91</td>\n",
       "      <td>2.00</td>\n",
       "      <td>1.90</td>\n",
       "      <td>2.05</td>\n",
       "      <td>1.93</td>\n",
       "      <td>1.99</td>\n",
       "      <td>1.87</td>\n",
       "      <td>2.02</td>\n",
       "      <td>1.96</td>\n",
       "    </tr>\n",
       "    <tr>\n",
       "      <th>3</th>\n",
       "      <td>17/08/2024</td>\n",
       "      <td>15:00</td>\n",
       "      <td>Everton</td>\n",
       "      <td>Brighton</td>\n",
       "      <td>0</td>\n",
       "      <td>3</td>\n",
       "      <td>A</td>\n",
       "      <td>0</td>\n",
       "      <td>1</td>\n",
       "      <td>A</td>\n",
       "      <td>...</td>\n",
       "      <td>1.87</td>\n",
       "      <td>2.06</td>\n",
       "      <td>1.86</td>\n",
       "      <td>2.07</td>\n",
       "      <td>1.92</td>\n",
       "      <td>2.10</td>\n",
       "      <td>1.83</td>\n",
       "      <td>2.04</td>\n",
       "      <td>1.88</td>\n",
       "      <td>2.11</td>\n",
       "    </tr>\n",
       "    <tr>\n",
       "      <th>4</th>\n",
       "      <td>17/08/2024</td>\n",
       "      <td>15:00</td>\n",
       "      <td>Newcastle</td>\n",
       "      <td>Southampton</td>\n",
       "      <td>1</td>\n",
       "      <td>0</td>\n",
       "      <td>H</td>\n",
       "      <td>1</td>\n",
       "      <td>0</td>\n",
       "      <td>H</td>\n",
       "      <td>...</td>\n",
       "      <td>1.87</td>\n",
       "      <td>2.06</td>\n",
       "      <td>1.88</td>\n",
       "      <td>2.06</td>\n",
       "      <td>1.89</td>\n",
       "      <td>2.10</td>\n",
       "      <td>1.82</td>\n",
       "      <td>2.05</td>\n",
       "      <td>1.89</td>\n",
       "      <td>2.10</td>\n",
       "    </tr>\n",
       "  </tbody>\n",
       "</table>\n",
       "<p>5 rows × 119 columns</p>\n",
       "</div>"
      ],
      "text/plain": [
       "    Game_Date   Time    HomeTeam     AwayTeam  FTHG  FTAG FTR  HTHG  HTAG HTR  \\\n",
       "0  16/08/2024  20:00  Man United       Fulham     1     0   H     0     0   D   \n",
       "1  17/08/2024  12:30     Ipswich    Liverpool     0     2   A     0     0   D   \n",
       "2  17/08/2024  15:00     Arsenal       Wolves     2     0   H     1     0   H   \n",
       "3  17/08/2024  15:00     Everton     Brighton     0     3   A     0     1   A   \n",
       "4  17/08/2024  15:00   Newcastle  Southampton     1     0   H     1     0   H   \n",
       "\n",
       "   ... B365CAHH  B365CAHA  PCAHH  PCAHA  MaxCAHH  MaxCAHA  AvgCAHH  AvgCAHA  \\\n",
       "0  ...     1.86      2.07   1.83   2.11     1.88     2.11     1.82     2.05   \n",
       "1  ...     2.05      1.88   2.04   1.90     2.20     2.00     1.99     1.88   \n",
       "2  ...     2.02      1.91   2.00   1.90     2.05     1.93     1.99     1.87   \n",
       "3  ...     1.87      2.06   1.86   2.07     1.92     2.10     1.83     2.04   \n",
       "4  ...     1.87      2.06   1.88   2.06     1.89     2.10     1.82     2.05   \n",
       "\n",
       "   BFECAHH  BFECAHA  \n",
       "0     1.90     2.08  \n",
       "1     2.04     1.93  \n",
       "2     2.02     1.96  \n",
       "3     1.88     2.11  \n",
       "4     1.89     2.10  \n",
       "\n",
       "[5 rows x 119 columns]"
      ]
     },
     "execution_count": 68,
     "metadata": {},
     "output_type": "execute_result"
    }
   ],
   "source": [
    "df.head()"
   ]
  },
  {
   "cell_type": "code",
   "execution_count": 69,
   "id": "6bd65f68-284e-40eb-8ca6-a9589b76ec6a",
   "metadata": {},
   "outputs": [
    {
     "data": {
      "text/plain": [
       "(380, 119)"
      ]
     },
     "execution_count": 69,
     "metadata": {},
     "output_type": "execute_result"
    }
   ],
   "source": [
    "df.shape"
   ]
  },
  {
   "cell_type": "code",
   "execution_count": 70,
   "id": "264fc583-95b2-4010-897b-6713cdf4e539",
   "metadata": {},
   "outputs": [
    {
     "name": "stdout",
     "output_type": "stream",
     "text": [
      "      Game_Date   Time       HomeTeam     AwayTeam  FTHG  FTAG FTR  HTHG  \\\n",
      "0    16/08/2024  20:00     Man United       Fulham     1     0   H     0   \n",
      "1    17/08/2024  12:30        Ipswich    Liverpool     0     2   A     0   \n",
      "2    17/08/2024  15:00        Arsenal       Wolves     2     0   H     1   \n",
      "3    17/08/2024  15:00        Everton     Brighton     0     3   A     0   \n",
      "4    17/08/2024  15:00      Newcastle  Southampton     1     0   H     1   \n",
      "..          ...    ...            ...          ...   ...   ...  ..   ...   \n",
      "375  25/05/2025  16:00      Newcastle      Everton     0     1   A     0   \n",
      "376  25/05/2025  16:00  Nott'm Forest      Chelsea     0     1   A     0   \n",
      "377  25/05/2025  16:00    Southampton      Arsenal     1     2   A     0   \n",
      "378  25/05/2025  16:00      Tottenham     Brighton     1     4   A     1   \n",
      "379  25/05/2025  16:00         Wolves    Brentford     1     1   D     0   \n",
      "\n",
      "     HTAG HTR  ... B365CAHH  B365CAHA  PCAHH  PCAHA  MaxCAHH  MaxCAHA  \\\n",
      "0       0   D  ...     1.86      2.07   1.83   2.11     1.88     2.11   \n",
      "1       0   D  ...     2.05      1.88   2.04   1.90     2.20     2.00   \n",
      "2       0   H  ...     2.02      1.91   2.00   1.90     2.05     1.93   \n",
      "3       1   A  ...     1.87      2.06   1.86   2.07     1.92     2.10   \n",
      "4       0   H  ...     1.87      2.06   1.88   2.06     1.89     2.10   \n",
      "..    ...  ..  ...      ...       ...    ...    ...      ...      ...   \n",
      "375     0   D  ...     2.00      1.85   2.01   1.90     2.01     1.95   \n",
      "376     0   D  ...     1.80      2.05   1.86   2.08     1.86     2.08   \n",
      "377     1   A  ...     2.03      1.83   2.04   1.87     2.07     1.87   \n",
      "378     0   H  ...     1.95      1.90   2.00   1.93     2.01     1.93   \n",
      "379     1   A  ...     1.85      2.00   1.90   2.03     1.90     2.05   \n",
      "\n",
      "     AvgCAHH  AvgCAHA  BFECAHH  BFECAHA  \n",
      "0       1.82     2.05     1.90     2.08  \n",
      "1       1.99     1.88     2.04     1.93  \n",
      "2       1.99     1.87     2.02     1.96  \n",
      "3       1.83     2.04     1.88     2.11  \n",
      "4       1.82     2.05     1.89     2.10  \n",
      "..       ...      ...      ...      ...  \n",
      "375     1.95     1.91     1.93     2.05  \n",
      "376     1.81     2.05     1.86     2.14  \n",
      "377     2.03     1.83     2.06     1.89  \n",
      "378     1.95     1.89     2.06     1.93  \n",
      "379     1.85     1.97     1.89     2.10  \n",
      "\n",
      "[380 rows x 119 columns]\n"
     ]
    }
   ],
   "source": [
    "print(df)"
   ]
  },
  {
   "cell_type": "code",
   "execution_count": 61,
   "id": "a8563520-51db-4f3b-a9bd-6b8bdca22f34",
   "metadata": {},
   "outputs": [
    {
     "name": "stdout",
     "output_type": "stream",
     "text": [
      "['Game_Date;Time;HomeTeam;AwayTeam;FTHG;FTAG;FTR;HTHG;HTAG;HTR;Referee;HS;AS;HST;AST;HF;AF;HC;AC;HY;AY;HR;AR;B365H;B365D;B365A;BWH;BWD;BWA;BFH;BFD;BFA;PSH;PSD;PSA;WHH;WHD;WHA;1XBH;1XBD;1XBA;MaxH;MaxD;MaxA;AvgH;AvgD;AvgA;BFEH;BFED;BFEA;B365>2.5;B365<2.5;P>2.5;P<2.5;Max>2.5;Max<2.5;Avg>2.5;Avg<2.5;BFE>2.5;BFE<2.5;AHh;B365AHH;B365AHA;PAHH;PAHA;MaxAHH;MaxAHA;AvgAHH;AvgAHA;BFEAHH;BFEAHA;B365CH;B365CD;B365CA;BWCH;BWCD;BWCA;BFCH;BFCD;BFCA;PSCH;PSCD;PSCA;WHCH;WHCD;WHCA;1XBCH;1XBCD;1XBCA;MaxCH;MaxCD;MaxCA;AvgCH;AvgCD;AvgCA;BFECH;BFECD;BFECA;B365C>2.5;B365C<2.5;PC>2.5;PC<2.5;MaxC>2.5;MaxC<2.5;AvgC>2.5;AvgC<2.5;BFEC>2.5;BFEC<2.5;AHCh;B365CAHH;B365CAHA;PCAHH;PCAHA;MaxCAHH;MaxCAHA;AvgCAHH;AvgCAHA;BFECAHH;BFECAHA']\n"
     ]
    }
   ],
   "source": [
    "print(df.columns.tolist())"
   ]
  },
  {
   "cell_type": "code",
   "execution_count": 36,
   "id": "fc536941-952b-495f-8a2e-99dcc5a22ed9",
   "metadata": {},
   "outputs": [],
   "source": [
    "df.columns = df.columns.str.strip()"
   ]
  },
  {
   "cell_type": "code",
   "execution_count": 71,
   "id": "7ac3ac50-acde-4f44-8d39-b078ba47821d",
   "metadata": {},
   "outputs": [
    {
     "name": "stdout",
     "output_type": "stream",
     "text": [
      "Index(['Game_Date', 'Time', 'HomeTeam', 'AwayTeam', 'FTHG', 'FTAG', 'FTR',\n",
      "       'HTHG', 'HTAG', 'HTR',\n",
      "       ...\n",
      "       'B365CAHH', 'B365CAHA', 'PCAHH', 'PCAHA', 'MaxCAHH', 'MaxCAHA',\n",
      "       'AvgCAHH', 'AvgCAHA', 'BFECAHH', 'BFECAHA'],\n",
      "      dtype='object', length=119)\n"
     ]
    }
   ],
   "source": [
    "print(df.columns)"
   ]
  },
  {
   "cell_type": "code",
   "execution_count": 72,
   "id": "013bc962-6b81-458c-bb3d-e7e103f9888a",
   "metadata": {},
   "outputs": [
    {
     "name": "stdout",
     "output_type": "stream",
     "text": [
      "['Game_Date', 'Time', 'HomeTeam', 'AwayTeam', 'FTHG', 'FTAG', 'FTR', 'HTHG', 'HTAG', 'HTR', 'Referee', 'HS', 'AS', 'HST', 'AST', 'HF', 'AF', 'HC', 'AC', 'HY', 'AY', 'HR', 'AR', 'B365H', 'B365D', 'B365A', 'BWH', 'BWD', 'BWA', 'BFH', 'BFD', 'BFA', 'PSH', 'PSD', 'PSA', 'WHH', 'WHD', 'WHA', '1XBH', '1XBD', '1XBA', 'MaxH', 'MaxD', 'MaxA', 'AvgH', 'AvgD', 'AvgA', 'BFEH', 'BFED', 'BFEA', 'B365>2.5', 'B365<2.5', 'P>2.5', 'P<2.5', 'Max>2.5', 'Max<2.5', 'Avg>2.5', 'Avg<2.5', 'BFE>2.5', 'BFE<2.5', 'AHh', 'B365AHH', 'B365AHA', 'PAHH', 'PAHA', 'MaxAHH', 'MaxAHA', 'AvgAHH', 'AvgAHA', 'BFEAHH', 'BFEAHA', 'B365CH', 'B365CD', 'B365CA', 'BWCH', 'BWCD', 'BWCA', 'BFCH', 'BFCD', 'BFCA', 'PSCH', 'PSCD', 'PSCA', 'WHCH', 'WHCD', 'WHCA', '1XBCH', '1XBCD', '1XBCA', 'MaxCH', 'MaxCD', 'MaxCA', 'AvgCH', 'AvgCD', 'AvgCA', 'BFECH', 'BFECD', 'BFECA', 'B365C>2.5', 'B365C<2.5', 'PC>2.5', 'PC<2.5', 'MaxC>2.5', 'MaxC<2.5', 'AvgC>2.5', 'AvgC<2.5', 'BFEC>2.5', 'BFEC<2.5', 'AHCh', 'B365CAHH', 'B365CAHA', 'PCAHH', 'PCAHA', 'MaxCAHH', 'MaxCAHA', 'AvgCAHH', 'AvgCAHA', 'BFECAHH', 'BFECAHA']\n"
     ]
    }
   ],
   "source": [
    "print(df.columns.tolist())"
   ]
  },
  {
   "cell_type": "code",
   "execution_count": 73,
   "id": "bc524729-4c0e-4e75-976d-47307de2497e",
   "metadata": {},
   "outputs": [
    {
     "data": {
      "text/plain": [
       "Index(['Game_Date', 'Time', 'HomeTeam', 'AwayTeam', 'FTHG', 'FTAG', 'FTR',\n",
       "       'HTHG', 'HTAG', 'HTR',\n",
       "       ...\n",
       "       'B365CAHH', 'B365CAHA', 'PCAHH', 'PCAHA', 'MaxCAHH', 'MaxCAHA',\n",
       "       'AvgCAHH', 'AvgCAHA', 'BFECAHH', 'BFECAHA'],\n",
       "      dtype='object', length=119)"
      ]
     },
     "execution_count": 73,
     "metadata": {},
     "output_type": "execute_result"
    }
   ],
   "source": [
    "df.columns"
   ]
  },
  {
   "cell_type": "code",
   "execution_count": 74,
   "id": "20ec8cff-9b4e-4f82-9bf9-74b5d33dbae8",
   "metadata": {},
   "outputs": [
    {
     "name": "stdout",
     "output_type": "stream",
     "text": [
      "(380, 119)\n"
     ]
    }
   ],
   "source": [
    "print(df.shape)"
   ]
  },
  {
   "cell_type": "code",
   "execution_count": 75,
   "id": "3baba944-144b-4625-a461-0e81a883c66c",
   "metadata": {},
   "outputs": [
    {
     "name": "stdout",
     "output_type": "stream",
     "text": [
      "    Game_Date   Time    HomeTeam     AwayTeam  FTHG  FTAG FTR  HTHG  HTAG HTR  \\\n",
      "0  16/08/2024  20:00  Man United       Fulham     1     0   H     0     0   D   \n",
      "1  17/08/2024  12:30     Ipswich    Liverpool     0     2   A     0     0   D   \n",
      "2  17/08/2024  15:00     Arsenal       Wolves     2     0   H     1     0   H   \n",
      "3  17/08/2024  15:00     Everton     Brighton     0     3   A     0     1   A   \n",
      "4  17/08/2024  15:00   Newcastle  Southampton     1     0   H     1     0   H   \n",
      "\n",
      "   ... B365CAHH  B365CAHA  PCAHH  PCAHA  MaxCAHH  MaxCAHA  AvgCAHH  AvgCAHA  \\\n",
      "0  ...     1.86      2.07   1.83   2.11     1.88     2.11     1.82     2.05   \n",
      "1  ...     2.05      1.88   2.04   1.90     2.20     2.00     1.99     1.88   \n",
      "2  ...     2.02      1.91   2.00   1.90     2.05     1.93     1.99     1.87   \n",
      "3  ...     1.87      2.06   1.86   2.07     1.92     2.10     1.83     2.04   \n",
      "4  ...     1.87      2.06   1.88   2.06     1.89     2.10     1.82     2.05   \n",
      "\n",
      "   BFECAHH  BFECAHA  \n",
      "0     1.90     2.08  \n",
      "1     2.04     1.93  \n",
      "2     2.02     1.96  \n",
      "3     1.88     2.11  \n",
      "4     1.89     2.10  \n",
      "\n",
      "[5 rows x 119 columns]\n"
     ]
    }
   ],
   "source": [
    "print(df.head())"
   ]
  },
  {
   "cell_type": "code",
   "execution_count": 76,
   "id": "fd638bf7-4915-4e78-8edc-b5b439282a2c",
   "metadata": {},
   "outputs": [
    {
     "data": {
      "text/plain": [
       "Game_Date    0\n",
       "Time         0\n",
       "HomeTeam     0\n",
       "AwayTeam     0\n",
       "FTHG         0\n",
       "            ..\n",
       "MaxCAHA      0\n",
       "AvgCAHH      0\n",
       "AvgCAHA      0\n",
       "BFECAHH      0\n",
       "BFECAHA      0\n",
       "Length: 119, dtype: int64"
      ]
     },
     "execution_count": 76,
     "metadata": {},
     "output_type": "execute_result"
    }
   ],
   "source": [
    "df.isnull().sum()"
   ]
  },
  {
   "cell_type": "code",
   "execution_count": 77,
   "id": "a9f357c3-4469-4bab-a0b1-aa9c256cf0b1",
   "metadata": {},
   "outputs": [
    {
     "name": "stdout",
     "output_type": "stream",
     "text": [
      "Game_Date    0.0\n",
      "Time         0.0\n",
      "HomeTeam     0.0\n",
      "AwayTeam     0.0\n",
      "FTHG         0.0\n",
      "            ... \n",
      "MaxCAHA      0.0\n",
      "AvgCAHH      0.0\n",
      "AvgCAHA      0.0\n",
      "BFECAHH      0.0\n",
      "BFECAHA      0.0\n",
      "Length: 119, dtype: float64\n"
     ]
    }
   ],
   "source": [
    "print(df.isnull().mean() * 100)"
   ]
  },
  {
   "cell_type": "code",
   "execution_count": 78,
   "id": "408a567e-f6c5-4b2e-8319-ca799c13fbd4",
   "metadata": {},
   "outputs": [
    {
     "name": "stdout",
     "output_type": "stream",
     "text": [
      "Prediction dataframe columns: ['Game_Date', 'Time', 'HomeTeam', 'AwayTeam', 'FTHG', 'FTAG', 'FTR', 'HTHG', 'HTAG', 'HTR', 'Referee', 'HS', 'AS', 'HST', 'AST', 'HF', 'AF', 'HC', 'AC', 'HY', 'AY', 'HR', 'AR', 'B365H', 'B365D', 'B365A', 'BWH', 'BWD', 'BWA', 'BFH', 'BFD', 'BFA', 'PSH', 'PSD', 'PSA', 'WHH', 'WHD', 'WHA', '1XBH', '1XBD', '1XBA', 'MaxH', 'MaxD', 'MaxA', 'AvgH', 'AvgD', 'AvgA', 'BFEH', 'BFED', 'BFEA', 'B365>2.5', 'B365<2.5', 'P>2.5', 'P<2.5', 'Max>2.5', 'Max<2.5', 'Avg>2.5', 'Avg<2.5', 'BFE>2.5', 'BFE<2.5', 'AHh', 'B365AHH', 'B365AHA', 'PAHH', 'PAHA', 'MaxAHH', 'MaxAHA', 'AvgAHH', 'AvgAHA', 'BFEAHH', 'BFEAHA', 'B365CH', 'B365CD', 'B365CA', 'BWCH', 'BWCD', 'BWCA', 'BFCH', 'BFCD', 'BFCA', 'PSCH', 'PSCD', 'PSCA', 'WHCH', 'WHCD', 'WHCA', '1XBCH', '1XBCD', '1XBCA', 'MaxCH', 'MaxCD', 'MaxCA', 'AvgCH', 'AvgCD', 'AvgCA', 'BFECH', 'BFECD', 'BFECA', 'B365C>2.5', 'B365C<2.5', 'PC>2.5', 'PC<2.5', 'MaxC>2.5', 'MaxC<2.5', 'AvgC>2.5', 'AvgC<2.5', 'BFEC>2.5', 'BFEC<2.5', 'AHCh', 'B365CAHH', 'B365CAHA', 'PCAHH', 'PCAHA', 'MaxCAHH', 'MaxCAHA', 'AvgCAHH', 'AvgCAHA', 'BFECAHH', 'BFECAHA']\n"
     ]
    }
   ],
   "source": [
    "print(\"Prediction dataframe columns:\", df.columns.tolist())"
   ]
  },
  {
   "cell_type": "code",
   "execution_count": 79,
   "id": "ec28a8aa-a3c4-4609-ab29-62da4a7fd69b",
   "metadata": {},
   "outputs": [
    {
     "name": "stdout",
     "output_type": "stream",
     "text": [
      "                    0\n",
      "Game_Date  16/08/2024\n",
      "Time            20:00\n",
      "HomeTeam   Man United\n",
      "AwayTeam       Fulham\n",
      "FTHG                1\n",
      "...               ...\n",
      "MaxCAHA          2.11\n",
      "AvgCAHH          1.82\n",
      "AvgCAHA          2.05\n",
      "BFECAHH           1.9\n",
      "BFECAHA          2.08\n",
      "\n",
      "[119 rows x 1 columns]\n"
     ]
    }
   ],
   "source": [
    "print(df.head(1).T)"
   ]
  },
  {
   "cell_type": "code",
   "execution_count": 82,
   "id": "1d7bcdd0-8cc2-49b9-8479-ffebde0b521f",
   "metadata": {},
   "outputs": [
    {
     "name": "stdout",
     "output_type": "stream",
     "text": [
      "    Game_Date        HomeTeam     AwayTeam FTR       p_H       p_D       p_A  \\\n",
      "0  2025-04-19       Brentford     Brighton   H  0.367999  0.204486  0.427516   \n",
      "1  2025-04-19  Crystal Palace  Bournemouth   D  0.365737  0.223970  0.410293   \n",
      "2  2025-04-20       Leicester    Liverpool   A  0.241230  0.250582  0.508188   \n",
      "3  2025-04-20          Fulham      Chelsea   A  0.383127  0.175451  0.441422   \n",
      "4  2025-04-20         Ipswich      Arsenal   A  0.190647  0.253522  0.555830   \n",
      "\n",
      "      imp_H     imp_D     imp_A          EV_H          EV_D          EV_A  \\\n",
      "0  2.717401  4.890320  2.339096  0.000000e+00 -1.110223e-16  0.000000e+00   \n",
      "1  2.734204  4.464889  2.437282  0.000000e+00  0.000000e+00 -1.110223e-16   \n",
      "2  4.145423  3.990713  1.967775  0.000000e+00  0.000000e+00  0.000000e+00   \n",
      "3  2.610103  5.699596  2.265404 -1.110223e-16  0.000000e+00  0.000000e+00   \n",
      "4  5.245295  3.944423  1.799110 -1.110223e-16  0.000000e+00  0.000000e+00   \n",
      "\n",
      "   Value_H  Value_D  Value_A  \n",
      "0    False    False    False  \n",
      "1    False    False    False  \n",
      "2    False    False    False  \n",
      "3    False    False    False  \n",
      "4    False    False    False  \n"
     ]
    }
   ],
   "source": [
    "import pandas as pd\n",
    "import numpy as np\n",
    "\n",
    "# Load your CSV\n",
    "df = pd.read_csv(\"outputs/predictions.csv\")\n",
    "\n",
    "# Step 1: Define implied probability calculation from bookmaker odds\n",
    "# If odds columns existed, you'd calculate: imp = 1/odds\n",
    "# Since we only have p_H, p_D, p_A, let's simulate odds from probabilities:\n",
    "# Ensure no zero division\n",
    "df['imp_H'] = 1 / df['p_H'].replace(0, np.nan)\n",
    "df['imp_D'] = 1 / df['p_D'].replace(0, np.nan)\n",
    "df['imp_A'] = 1 / df['p_A'].replace(0, np.nan)\n",
    "\n",
    "# Step 2: Expected value calculation\n",
    "# EV = (probability * decimal odds) - 1\n",
    "df['EV_H'] = (df['p_H'] * df['imp_H']) - 1\n",
    "df['EV_D'] = (df['p_D'] * df['imp_D']) - 1\n",
    "df['EV_A'] = (df['p_A'] * df['imp_A']) - 1\n",
    "\n",
    "# Step 3: Identify value bets (EV > 0)\n",
    "df['Value_H'] = df['EV_H'] > 0\n",
    "df['Value_D'] = df['EV_D'] > 0\n",
    "df['Value_A'] = df['EV_A'] > 0\n",
    "\n",
    "# Optional: Replace infinite or NaN values with 0\n",
    "df.fillna(0, inplace=True)\n",
    "df.replace([np.inf, -np.inf], 0, inplace=True)\n",
    "\n",
    "# Save back to CSV\n",
    "df.to_csv(\"outputs/predictions_filled.csv\", index=False)\n",
    "\n",
    "print(df.head())\n"
   ]
  },
  {
   "cell_type": "code",
   "execution_count": null,
   "id": "b667bc70-4752-4524-b605-b96ea6c8b510",
   "metadata": {},
   "outputs": [],
   "source": []
  }
 ],
 "metadata": {
  "kernelspec": {
   "display_name": "Python 3 (ipykernel)",
   "language": "python",
   "name": "python3"
  },
  "language_info": {
   "codemirror_mode": {
    "name": "ipython",
    "version": 3
   },
   "file_extension": ".py",
   "mimetype": "text/x-python",
   "name": "python",
   "nbconvert_exporter": "python",
   "pygments_lexer": "ipython3",
   "version": "3.13.5"
  }
 },
 "nbformat": 4,
 "nbformat_minor": 5
}
