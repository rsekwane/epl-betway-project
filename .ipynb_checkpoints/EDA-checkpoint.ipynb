{
 "cells": [
  {
   "cell_type": "code",
   "execution_count": null,
   "id": "e63ef4d1",
   "metadata": {},
   "outputs": [],
   "source": [
    "import pandas as pd\n",
    "from pathlib import Path  "
   ]
  },
  {
   "cell_type": "code",
   "execution_count": null,
   "id": "f361b06c",
   "metadata": {},
   "outputs": [],
   "source": [
    "import argparse\n",
    "import json\n",
    "import os\n",
    "import pandas as pd\n",
    "import numpy as np\n",
    "import yaml\n",
    "from sklearn.metrics import log_loss, accuracy_score\n",
    "\n",
    "from src.model import make_dataset, build_pipeline, evaluate_cv, predict_with_ev, save_pipeline"
   ]
  },
  {
   "cell_type": "code",
   "execution_count": null,
   "id": "b82e4a6a",
   "metadata": {},
   "outputs": [],
   "source": [
    "parser = argparse.ArgumentParser()\n",
    "parser.add_argument(\"--config\", default=\"config.yaml\")\n",
    "args = parser.parse_args()"
   ]
  },
  {
   "cell_type": "code",
   "execution_count": null,
   "id": "bc732575",
   "metadata": {},
   "outputs": [],
   "source": [
    "config_path = Path(args.config)"
   ]
  },
  {
   "cell_type": "code",
   "execution_count": null,
   "id": "e6333a34",
   "metadata": {},
   "outputs": [],
   "source": [
    "df = pd.read_csv(\"data/epl_matches.csv\")"
   ]
  },
  {
   "cell_type": "code",
   "execution_count": null,
   "id": "611667fc",
   "metadata": {},
   "outputs": [],
   "source": [
    "print( df.head())"
   ]
  }
 ],
 "metadata": {
  "kernelspec": {
   "display_name": "Python 3",
   "language": "python",
   "name": "python3"
  },
  "language_info": {
   "codemirror_mode": {
    "name": "ipython",
    "version": 3
   },
   "file_extension": ".py",
   "mimetype": "text/x-python",
   "name": "python",
   "nbconvert_exporter": "python",
   "pygments_lexer": "ipython3",
   "version": "3.13.5"
  }
 },
 "nbformat": 4,
 "nbformat_minor": 5
}
